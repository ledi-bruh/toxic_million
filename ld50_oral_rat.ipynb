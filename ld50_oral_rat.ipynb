{
 "cells": [
  {
   "cell_type": "code",
   "execution_count": 1,
   "metadata": {},
   "outputs": [],
   "source": [
    "from rdkit import Chem\n",
    "from mordred import Calculator, descriptors\n",
    "import pandas as pd\n",
    "import tensorflow as tf\n",
    "import numpy as np\n",
    "from sklearn.model_selection import train_test_split\n",
    "from sklearn.metrics import mean_squared_error, mean_absolute_error, mean_absolute_percentage_error, r2_score\n",
    "from sklearn.model_selection import GridSearchCV\n",
    "from sklearn.model_selection import KFold\n",
    "from xgboost import XGBRegressor\n",
    "from catboost import CatBoostRegressor\n",
    "import matplotlib.pyplot as plt"
   ]
  },
  {
   "cell_type": "code",
   "execution_count": 10,
   "metadata": {},
   "outputs": [],
   "source": [
    "calc = Calculator(descriptors, ignore_3D=True)\n",
    "\n",
    "def get_desc(smile):\n",
    "    mol = Chem.MolFromSmiles(smile)\n",
    "    return calc(mol)"
   ]
  },
  {
   "attachments": {},
   "cell_type": "markdown",
   "metadata": {},
   "source": [
    "#### Загрузка датасета"
   ]
  },
  {
   "cell_type": "code",
   "execution_count": 4,
   "metadata": {},
   "outputs": [
    {
     "data": {
      "text/html": [
       "<div>\n",
       "<style scoped>\n",
       "    .dataframe tbody tr th:only-of-type {\n",
       "        vertical-align: middle;\n",
       "    }\n",
       "\n",
       "    .dataframe tbody tr th {\n",
       "        vertical-align: top;\n",
       "    }\n",
       "\n",
       "    .dataframe thead th {\n",
       "        text-align: right;\n",
       "    }\n",
       "</style>\n",
       "<table border=\"1\" class=\"dataframe\">\n",
       "  <thead>\n",
       "    <tr style=\"text-align: right;\">\n",
       "      <th></th>\n",
       "      <th>smiles</th>\n",
       "      <th>label</th>\n",
       "    </tr>\n",
       "  </thead>\n",
       "  <tbody>\n",
       "    <tr>\n",
       "      <th>0</th>\n",
       "      <td>[O-][N+](=Nc1ccccc1)c1ccccc1</td>\n",
       "      <td>2.505</td>\n",
       "    </tr>\n",
       "    <tr>\n",
       "      <th>1</th>\n",
       "      <td>BrC(Br)Br</td>\n",
       "      <td>2.343</td>\n",
       "    </tr>\n",
       "    <tr>\n",
       "      <th>2</th>\n",
       "      <td>C=CBr</td>\n",
       "      <td>2.330</td>\n",
       "    </tr>\n",
       "    <tr>\n",
       "      <th>3</th>\n",
       "      <td>Brc1ccc(-c2ccc(Br)c(Br)c2Br)c(Br)c1Br</td>\n",
       "      <td>1.465</td>\n",
       "    </tr>\n",
       "    <tr>\n",
       "      <th>4</th>\n",
       "      <td>S=C=Nc1ccc(Br)cc1</td>\n",
       "      <td>2.729</td>\n",
       "    </tr>\n",
       "    <tr>\n",
       "      <th>...</th>\n",
       "      <td>...</td>\n",
       "      <td>...</td>\n",
       "    </tr>\n",
       "    <tr>\n",
       "      <th>7337</th>\n",
       "      <td>O=C=Nc1ccccc1C(F)(F)F</td>\n",
       "      <td>1.427</td>\n",
       "    </tr>\n",
       "    <tr>\n",
       "      <th>7338</th>\n",
       "      <td>Nc1ccc(OC(F)(F)C(F)F)c(N)c1</td>\n",
       "      <td>2.321</td>\n",
       "    </tr>\n",
       "    <tr>\n",
       "      <th>7339</th>\n",
       "      <td>CC(=O)OCCN(CCC#N)c1ccccc1</td>\n",
       "      <td>2.050</td>\n",
       "    </tr>\n",
       "    <tr>\n",
       "      <th>7340</th>\n",
       "      <td>CC1=CC(=C2C(=O)c3ccccc3C2=O)C=CN1CCN1CCCCC1</td>\n",
       "      <td>2.951</td>\n",
       "    </tr>\n",
       "    <tr>\n",
       "      <th>7341</th>\n",
       "      <td>CCC(=O)c1c(O)cc(O)cc1O</td>\n",
       "      <td>1.884</td>\n",
       "    </tr>\n",
       "  </tbody>\n",
       "</table>\n",
       "<p>7342 rows × 2 columns</p>\n",
       "</div>"
      ],
      "text/plain": [
       "                                           smiles  label\n",
       "0                    [O-][N+](=Nc1ccccc1)c1ccccc1  2.505\n",
       "1                                       BrC(Br)Br  2.343\n",
       "2                                           C=CBr  2.330\n",
       "3           Brc1ccc(-c2ccc(Br)c(Br)c2Br)c(Br)c1Br  1.465\n",
       "4                               S=C=Nc1ccc(Br)cc1  2.729\n",
       "...                                           ...    ...\n",
       "7337                        O=C=Nc1ccccc1C(F)(F)F  1.427\n",
       "7338                  Nc1ccc(OC(F)(F)C(F)F)c(N)c1  2.321\n",
       "7339                    CC(=O)OCCN(CCC#N)c1ccccc1  2.050\n",
       "7340  CC1=CC(=C2C(=O)c3ccccc3C2=O)C=CN1CCN1CCCCC1  2.951\n",
       "7341                       CCC(=O)c1c(O)cc(O)cc1O  1.884\n",
       "\n",
       "[7342 rows x 2 columns]"
      ]
     },
     "execution_count": 4,
     "metadata": {},
     "output_type": "execute_result"
    }
   ],
   "source": [
    "df = pd.read_csv('data/ld50_oral_rat/output_big_df.csv')\n",
    "df = df.drop(columns=['Unnamed: 0'])\n",
    "df"
   ]
  },
  {
   "cell_type": "code",
   "execution_count": 2,
   "metadata": {},
   "outputs": [
    {
     "data": {
      "text/plain": [
       "((7342, 1613), (7342, 1))"
      ]
     },
     "execution_count": 2,
     "metadata": {},
     "output_type": "execute_result"
    }
   ],
   "source": [
    "# загрузка сразу предобработанного датасет\n",
    "\n",
    "X = np.array(pd.read_csv('data/ld50_oral_rat/pre/7342_all_X.csv'))\n",
    "y = np.array(df['label'])\n",
    "\n",
    "X.shape, y.shape"
   ]
  },
  {
   "cell_type": "code",
   "execution_count": null,
   "metadata": {},
   "outputs": [],
   "source": [
    "X = np.array(list(map(lambda x: get_desc(x), df['smiles'])), dtype=float)\n",
    "y = np.array(df['label'])\n",
    "\n",
    "X.shape, y.shape"
   ]
  },
  {
   "attachments": {},
   "cell_type": "markdown",
   "metadata": {},
   "source": [
    "#### Пример молекулы"
   ]
  },
  {
   "cell_type": "code",
   "execution_count": 5,
   "metadata": {},
   "outputs": [
    {
     "name": "stdout",
     "output_type": "stream",
     "text": [
      "c1cc(-c2ccncc2)ccn1\n"
     ]
    },
    {
     "data": {
      "image/png": "[encoded data removed]",
      "text/plain": [
       "<rdkit.Chem.rdchem.Mol at 0x1e25b8993c0>"
      ]
     },
     "execution_count": 5,
     "metadata": {},
     "output_type": "execute_result"
    }
   ],
   "source": [
    "view = df.iloc[73]\n",
    "view_mol = Chem.MolFromSmiles(view['smiles'])\n",
    "print(view['smiles'])\n",
    "view_mol"
   ]
  },
  {
   "attachments": {},
   "cell_type": "markdown",
   "metadata": {},
   "source": [
    "#### Разделение на обучающую и тренировочную выборки"
   ]
  },
  {
   "cell_type": "code",
   "execution_count": 7,
   "metadata": {},
   "outputs": [],
   "source": [
    "X_train, X_test, y_train, y_test = train_test_split(X, y, test_size=0.33, random_state=0)"
   ]
  },
  {
   "cell_type": "code",
   "execution_count": 6,
   "metadata": {},
   "outputs": [],
   "source": [
    "def print_metrics(y_test, y_pred):\n",
    "    print(\n",
    "        f'MAE: {mean_absolute_error(y_test, y_pred)}\\n'\n",
    "        f'MSE: {mean_squared_error(y_test, y_pred)}\\n'\n",
    "        f'MAPE: {mean_absolute_percentage_error(y_test, y_pred)}\\n'\n",
    "        f'R^2: {r2_score(y_test, y_pred)}\\n'\n",
    "        f'RMSE: {np.sqrt(mean_squared_error(y_test, y_pred))}'\n",
    "    )"
   ]
  },
  {
   "attachments": {},
   "cell_type": "markdown",
   "metadata": {},
   "source": [
    "## Tensorflow (неудачно)"
   ]
  },
  {
   "cell_type": "code",
   "execution_count": 80,
   "metadata": {},
   "outputs": [],
   "source": [
    "X_tf = np.where(np.isnan(X), 0, X)\n",
    "X_train_tf, X_test_tf, y_train_tf, y_test_tf = train_test_split(X_tf, y, test_size=0.33, random_state=0)"
   ]
  },
  {
   "cell_type": "code",
   "execution_count": 81,
   "metadata": {},
   "outputs": [
    {
     "name": "stdout",
     "output_type": "stream",
     "text": [
      "Model: \"sequential_18\"\n",
      "_________________________________________________________________\n",
      " Layer (type)                Output Shape              Param #   \n",
      "=================================================================\n",
      " dense_83 (Dense)            (None, 1024)              1652736   \n",
      "                                                                 \n",
      " dense_84 (Dense)            (None, 512)               524800    \n",
      "                                                                 \n",
      " dropout_39 (Dropout)        (None, 512)               0         \n",
      "                                                                 \n",
      " dense_85 (Dense)            (None, 256)               131328    \n",
      "                                                                 \n",
      " dropout_40 (Dropout)        (None, 256)               0         \n",
      "                                                                 \n",
      " dense_86 (Dense)            (None, 128)               32896     \n",
      "                                                                 \n",
      " dropout_41 (Dropout)        (None, 128)               0         \n",
      "                                                                 \n",
      " dense_87 (Dense)            (None, 1)                 129       \n",
      "                                                                 \n",
      "=================================================================\n",
      "Total params: 2,341,889\n",
      "Trainable params: 2,341,889\n",
      "Non-trainable params: 0\n",
      "_________________________________________________________________\n"
     ]
    }
   ],
   "source": [
    "model = tf.keras.Sequential(\n",
    "    [\n",
    "        tf.keras.layers.Dense(1024, activation=\"linear\", input_shape=(X.shape[1],)),\n",
    "        tf.keras.layers.Dense(512, activation=\"sigmoid\"),\n",
    "        tf.keras.layers.Dropout(0.01),\n",
    "        tf.keras.layers.Dense(256, activation=\"sigmoid\"),\n",
    "        tf.keras.layers.Dropout(0.01),\n",
    "        tf.keras.layers.Dense(128, activation=\"sigmoid\"),\n",
    "        tf.keras.layers.Dropout(0.01),\n",
    "        tf.keras.layers.Dense(1, activation=\"linear\", kernel_regularizer='l2'),\n",
    "    ]\n",
    ")\n",
    "model.compile(optimizer=tf.keras.optimizers.Adam(learning_rate=0.001), loss=\"mse\")\n",
    "model.summary()"
   ]
  },
  {
   "cell_type": "code",
   "execution_count": 82,
   "metadata": {},
   "outputs": [
    {
     "name": "stdout",
     "output_type": "stream",
     "text": [
      "Epoch 1/5\n",
      "154/154 [==============================] - 5s 26ms/step - loss: 1.1040\n",
      "Epoch 2/5\n",
      "154/154 [==============================] - 4s 25ms/step - loss: 0.9538\n",
      "Epoch 3/5\n",
      "154/154 [==============================] - 4s 25ms/step - loss: 0.9761\n",
      "Epoch 4/5\n",
      "154/154 [==============================] - 4s 25ms/step - loss: 0.9607\n",
      "Epoch 5/5\n",
      "154/154 [==============================] - 4s 25ms/step - loss: 0.9547\n"
     ]
    },
    {
     "data": {
      "text/plain": [
       "<keras.callbacks.History at 0x19b4ba85f40>"
      ]
     },
     "execution_count": 82,
     "metadata": {},
     "output_type": "execute_result"
    }
   ],
   "source": [
    "model.fit(X_train_tf, y_train_tf, epochs=5)"
   ]
  },
  {
   "cell_type": "code",
   "execution_count": 83,
   "metadata": {},
   "outputs": [
    {
     "name": "stdout",
     "output_type": "stream",
     "text": [
      "76/76 [==============================] - 1s 6ms/step\n"
     ]
    },
    {
     "data": {
      "text/plain": [
       "array([[2.4842105],\n",
       "       [2.4842105],\n",
       "       [2.4842105]], dtype=float32)"
      ]
     },
     "execution_count": 83,
     "metadata": {},
     "output_type": "execute_result"
    }
   ],
   "source": [
    "y_pred_tf = model.predict(X_test_tf)\n",
    "y_pred_tf[:3]"
   ]
  },
  {
   "cell_type": "code",
   "execution_count": 84,
   "metadata": {},
   "outputs": [
    {
     "name": "stdout",
     "output_type": "stream",
     "text": [
      "MAE: 0.7286786911799502\n",
      "MSE: 0.9140625557763256\n",
      "MAPE: 0.3208899201152867\n",
      "R^2: -0.004858076282287627\n",
      "RMSE: 0.9560661879683464\n"
     ]
    }
   ],
   "source": [
    "print_metrics(y_test_tf, y_pred_tf)"
   ]
  },
  {
   "attachments": {},
   "cell_type": "markdown",
   "metadata": {},
   "source": [
    "## sklearn"
   ]
  },
  {
   "attachments": {},
   "cell_type": "markdown",
   "metadata": {},
   "source": [
    "### Проверили кросс-валидацию"
   ]
  },
  {
   "cell_type": "code",
   "execution_count": 85,
   "metadata": {},
   "outputs": [
    {
     "name": "stdout",
     "output_type": "stream",
     "text": [
      "RMSE: 0.6157041119434946\n",
      "\n",
      "RMSE: 0.6171983452899202\n",
      "\n",
      "RMSE: 0.66428106269451\n",
      "\n",
      "RMSE: 0.595739193809463\n",
      "\n",
      "RMSE: 0.6412679714413013\n",
      "\n",
      "0.6268381370357379\n"
     ]
    }
   ],
   "source": [
    "kfold = KFold(n_splits=5, shuffle=True, random_state=0)\n",
    "rmse = []\n",
    "\n",
    "for train_index, test_index in kfold.split(X, y):\n",
    "    xgbr = XGBRegressor().fit(X[train_index], y[train_index])\n",
    "    y_pred_xgbr = xgbr.predict(X[test_index])\n",
    "    rmse.append(np.sqrt(mean_squared_error(y[test_index], y_pred_xgbr)))\n",
    "    print('RMSE:', rmse[-1], end='\\n\\n')\n",
    "\n",
    "print(np.mean(rmse))"
   ]
  },
  {
   "cell_type": "code",
   "execution_count": 86,
   "metadata": {},
   "outputs": [
    {
     "name": "stdout",
     "output_type": "stream",
     "text": [
      "[0]\tvalidation_0-rmse:1.65065\tvalidation_1-rmse:1.67897\n",
      "[1]\tvalidation_0-rmse:1.24167\tvalidation_1-rmse:1.28022\n",
      "[2]\tvalidation_0-rmse:0.96735\tvalidation_1-rmse:1.02464\n",
      "[3]\tvalidation_0-rmse:0.79071\tvalidation_1-rmse:0.86933\n",
      "[4]\tvalidation_0-rmse:0.67636\tvalidation_1-rmse:0.77102\n",
      "[5]\tvalidation_0-rmse:0.59982\tvalidation_1-rmse:0.71511\n",
      "[6]\tvalidation_0-rmse:0.55251\tvalidation_1-rmse:0.68756\n",
      "[7]\tvalidation_0-rmse:0.51898\tvalidation_1-rmse:0.67182\n",
      "[8]\tvalidation_0-rmse:0.49379\tvalidation_1-rmse:0.66215\n",
      "[9]\tvalidation_0-rmse:0.47428\tvalidation_1-rmse:0.65645\n",
      "[10]\tvalidation_0-rmse:0.46111\tvalidation_1-rmse:0.65096\n",
      "[11]\tvalidation_0-rmse:0.45029\tvalidation_1-rmse:0.64862\n",
      "[12]\tvalidation_0-rmse:0.44485\tvalidation_1-rmse:0.64725\n",
      "[13]\tvalidation_0-rmse:0.44104\tvalidation_1-rmse:0.64619\n",
      "[14]\tvalidation_0-rmse:0.43350\tvalidation_1-rmse:0.64531\n",
      "[15]\tvalidation_0-rmse:0.42655\tvalidation_1-rmse:0.64494\n",
      "[16]\tvalidation_0-rmse:0.41856\tvalidation_1-rmse:0.64349\n",
      "[17]\tvalidation_0-rmse:0.41313\tvalidation_1-rmse:0.64338\n",
      "[18]\tvalidation_0-rmse:0.40325\tvalidation_1-rmse:0.64301\n",
      "[19]\tvalidation_0-rmse:0.39803\tvalidation_1-rmse:0.64356\n",
      "[20]\tvalidation_0-rmse:0.39241\tvalidation_1-rmse:0.64226\n",
      "[21]\tvalidation_0-rmse:0.38624\tvalidation_1-rmse:0.64236\n",
      "[22]\tvalidation_0-rmse:0.37872\tvalidation_1-rmse:0.64208\n",
      "[23]\tvalidation_0-rmse:0.37137\tvalidation_1-rmse:0.64032\n",
      "[24]\tvalidation_0-rmse:0.36605\tvalidation_1-rmse:0.64041\n",
      "[25]\tvalidation_0-rmse:0.36097\tvalidation_1-rmse:0.64038\n",
      "[26]\tvalidation_0-rmse:0.35770\tvalidation_1-rmse:0.63944\n",
      "[27]\tvalidation_0-rmse:0.34821\tvalidation_1-rmse:0.64017\n",
      "[28]\tvalidation_0-rmse:0.34372\tvalidation_1-rmse:0.64025\n",
      "[29]\tvalidation_0-rmse:0.33653\tvalidation_1-rmse:0.63926\n",
      "[30]\tvalidation_0-rmse:0.33172\tvalidation_1-rmse:0.63834\n",
      "[31]\tvalidation_0-rmse:0.32875\tvalidation_1-rmse:0.63833\n",
      "[32]\tvalidation_0-rmse:0.32183\tvalidation_1-rmse:0.63697\n",
      "[33]\tvalidation_0-rmse:0.31703\tvalidation_1-rmse:0.63631\n",
      "[34]\tvalidation_0-rmse:0.31117\tvalidation_1-rmse:0.63430\n",
      "[35]\tvalidation_0-rmse:0.30871\tvalidation_1-rmse:0.63438\n",
      "[36]\tvalidation_0-rmse:0.30473\tvalidation_1-rmse:0.63417\n",
      "[37]\tvalidation_0-rmse:0.30077\tvalidation_1-rmse:0.63427\n",
      "[38]\tvalidation_0-rmse:0.29529\tvalidation_1-rmse:0.63340\n",
      "[39]\tvalidation_0-rmse:0.28872\tvalidation_1-rmse:0.63213\n",
      "[40]\tvalidation_0-rmse:0.27998\tvalidation_1-rmse:0.63093\n",
      "[41]\tvalidation_0-rmse:0.27600\tvalidation_1-rmse:0.63032\n",
      "[42]\tvalidation_0-rmse:0.27148\tvalidation_1-rmse:0.63072\n",
      "[43]\tvalidation_0-rmse:0.26670\tvalidation_1-rmse:0.63046\n",
      "[44]\tvalidation_0-rmse:0.26175\tvalidation_1-rmse:0.62964\n",
      "[45]\tvalidation_0-rmse:0.25444\tvalidation_1-rmse:0.62853\n",
      "[46]\tvalidation_0-rmse:0.25035\tvalidation_1-rmse:0.62809\n",
      "[47]\tvalidation_0-rmse:0.24440\tvalidation_1-rmse:0.62817\n",
      "[48]\tvalidation_0-rmse:0.24138\tvalidation_1-rmse:0.62777\n",
      "[49]\tvalidation_0-rmse:0.23921\tvalidation_1-rmse:0.62825\n",
      "[50]\tvalidation_0-rmse:0.23620\tvalidation_1-rmse:0.62787\n",
      "[51]\tvalidation_0-rmse:0.23076\tvalidation_1-rmse:0.62766\n",
      "[52]\tvalidation_0-rmse:0.22557\tvalidation_1-rmse:0.62718\n",
      "[53]\tvalidation_0-rmse:0.22248\tvalidation_1-rmse:0.62734\n",
      "[54]\tvalidation_0-rmse:0.22004\tvalidation_1-rmse:0.62742\n",
      "[55]\tvalidation_0-rmse:0.21873\tvalidation_1-rmse:0.62765\n",
      "[56]\tvalidation_0-rmse:0.21582\tvalidation_1-rmse:0.62782\n",
      "[57]\tvalidation_0-rmse:0.21341\tvalidation_1-rmse:0.62791\n",
      "[58]\tvalidation_0-rmse:0.20994\tvalidation_1-rmse:0.62734\n",
      "[59]\tvalidation_0-rmse:0.20888\tvalidation_1-rmse:0.62730\n",
      "[60]\tvalidation_0-rmse:0.20743\tvalidation_1-rmse:0.62745\n",
      "[61]\tvalidation_0-rmse:0.20605\tvalidation_1-rmse:0.62736\n",
      "MAE: 0.46679305634496626\n",
      "MSE: 0.3933608312796816\n",
      "MAPE: 0.20279487850791733\n",
      "R^2: 0.5675659114284659\n",
      "RMSE: 0.6271848461814759\n"
     ]
    }
   ],
   "source": [
    "xgbr_kf = XGBRegressor(early_stopping_rounds=10, random_state=0, seed=0).fit(X_train, y_train, eval_set=[(X_train, y_train), (X_test, y_test)])\n",
    "y_pred_xgbr_kf = xgbr_kf.predict(X_test)\n",
    "print_metrics(y_test, y_pred_xgbr_kf)"
   ]
  },
  {
   "cell_type": "code",
   "execution_count": 87,
   "metadata": {},
   "outputs": [
    {
     "data": {
      "text/plain": [
       "0.628136739649948"
      ]
     },
     "execution_count": 87,
     "metadata": {},
     "output_type": "execute_result"
    }
   ],
   "source": [
    "results = xgbr_kf.evals_result()\n",
    "results['validation_1']['rmse'][-1]"
   ]
  },
  {
   "cell_type": "code",
   "execution_count": 88,
   "metadata": {},
   "outputs": [
    {
     "data": {
      "text/plain": [
       "<matplotlib.legend.Legend at 0x19b04ae7ca0>"
      ]
     },
     "execution_count": 88,
     "metadata": {},
     "output_type": "execute_result"
    },
    {
     "data": {
      "image/png": "[encoded data removed]",
      "text/plain": [
       "<Figure size 640x480 with 1 Axes>"
      ]
     },
     "metadata": {},
     "output_type": "display_data"
    }
   ],
   "source": [
    "epochs = len(results['validation_0']['rmse'])\n",
    "x_axis = range(0, epochs)\n",
    "\n",
    "fig, ax = plt.subplots()\n",
    "\n",
    "ax.plot(x_axis, results['validation_0']['rmse'], label='Train')\n",
    "ax.plot(x_axis, results['validation_1']['rmse'], label='Test')\n",
    "\n",
    "plt.title('XGBoost RMSE')\n",
    "plt.xlabel(\"Boosting Iterations\")\n",
    "plt.ylabel(\"RMSE Deviance\")\n",
    "plt.legend(loc=\"upper right\")"
   ]
  },
  {
   "attachments": {},
   "cell_type": "markdown",
   "metadata": {},
   "source": [
    "### XGB"
   ]
  },
  {
   "cell_type": "code",
   "execution_count": 89,
   "metadata": {},
   "outputs": [
    {
     "name": "stdout",
     "output_type": "stream",
     "text": [
      "MAE: 0.46666002014339636\n",
      "MSE: 0.39459896661517996\n",
      "MAPE: 0.20284834173937\n",
      "R^2: 0.5662047898251974\n",
      "RMSE: 0.6281711284476388\n"
     ]
    }
   ],
   "source": [
    "xgbr = XGBRegressor().fit(X_train, y_train)\n",
    "y_pred_xgbr = xgbr.predict(X_test)\n",
    "print_metrics(y_test, y_pred_xgbr)"
   ]
  },
  {
   "attachments": {},
   "cell_type": "markdown",
   "metadata": {},
   "source": [
    "### CatBoost"
   ]
  },
  {
   "cell_type": "code",
   "execution_count": 90,
   "metadata": {},
   "outputs": [
    {
     "name": "stdout",
     "output_type": "stream",
     "text": [
      "MAE: 0.438331975426378\n",
      "MSE: 0.35227014925337635\n",
      "MAPE: 0.19169357899294656\n",
      "R^2: 0.6127382067305219\n",
      "RMSE: 0.5935235035391407\n"
     ]
    }
   ],
   "source": [
    "cbr = CatBoostRegressor().fit(X_train, y_train, verbose=False)\n",
    "y_pred_cbr = cbr.predict(X_test)\n",
    "print_metrics(y_test, y_pred_cbr)"
   ]
  },
  {
   "attachments": {},
   "cell_type": "markdown",
   "metadata": {},
   "source": [
    "Можно бы было подобрать много гиперпараметров, но у нас нет столько мощностей"
   ]
  },
  {
   "cell_type": "code",
   "execution_count": 8,
   "metadata": {},
   "outputs": [
    {
     "name": "stdout",
     "output_type": "stream",
     "text": [
      "Fitting 5 folds for each of 4 candidates, totalling 20 fits\n"
     ]
    }
   ],
   "source": [
    "params = {\n",
    "    'iterations': [500, 1000, 1500],\n",
    "    'learning_rate': [0.01],\n",
    "    'depth': [3, 5, 7],\n",
    "    'l2_leaf_reg': [3, 5, 7],\n",
    "    'random_seed': [42],\n",
    "    'bagging_temperature': [0.6, 0.8, 1],\n",
    "    'border_count': [32, 64, 128]\n",
    "}\n",
    "\n",
    "cb = CatBoostRegressor(task_type=\"GPU\", devices=\"0:1\") \n",
    "\n",
    "grid = GridSearchCV(estimator=cb, param_grid=params, n_jobs=4, verbose=3)\n",
    "\n",
    "grid.fit(X_train, y_train)"
   ]
  }
 ],
 "metadata": {
  "kernelspec": {
   "display_name": "venv",
   "language": "python",
   "name": "python3"
  },
  "language_info": {
   "codemirror_mode": {
    "name": "ipython",
    "version": 3
   },
   "file_extension": ".py",
   "mimetype": "text/x-python",
   "name": "python",
   "nbconvert_exporter": "python",
   "pygments_lexer": "ipython3",
   "version": "3.9.13"
  },
  "orig_nbformat": 4
 },
 "nbformat": 4,
 "nbformat_minor": 2
}
