{
  "cells": [
    {
      "cell_type": "code",
      "execution_count": 3,
      "metadata": {
        "id": "a2AD2oLJygmf"
      },
      "outputs": [],
      "source": [
        "from rdkit import Chem\n",
        "from mordred import Calculator, descriptors\n",
        "import pandas as pd\n",
        "import tensorflow as tf\n",
        "import numpy as np\n",
        "from sklearn.model_selection import train_test_split\n",
        "from sklearn.metrics import mean_squared_error, mean_absolute_error, mean_absolute_percentage_error, r2_score\n",
        "from sklearn.model_selection import KFold, GridSearchCV\n",
        "from xgboost import XGBRegressor\n",
        "from catboost import CatBoostRegressor\n",
        "import matplotlib.pyplot as plt"
      ]
    },
    {
      "cell_type": "code",
      "execution_count": 4,
      "metadata": {
        "id": "Q2DDa_-Eygmn"
      },
      "outputs": [],
      "source": [
        "calc = Calculator(descriptors, ignore_3D=True)\n",
        "\n",
        "def get_desc(smile):\n",
        "    mol = Chem.MolFromSmiles(smile)\n",
        "    return calc(mol)"
      ]
    },
    {
      "cell_type": "markdown",
      "metadata": {
        "id": "fPJ2GkuCygmo"
      },
      "source": [
        "#### Загрузка датасета"
      ]
    },
    {
      "cell_type": "code",
      "execution_count": 5,
      "metadata": {
        "colab": {
          "base_uri": "https://localhost:8080/",
          "height": 424
        },
        "id": "I5mqh2uGygms",
        "outputId": "6d822b96-31ff-4cfb-e17d-622ef714ae9b"
      },
      "outputs": [
        {
          "data": {
            "text/html": [
              "\n",
              "  <div id=\"df-7cea885d-e338-49ae-b990-63cfc84426ca\">\n",
              "    <div class=\"colab-df-container\">\n",
              "      <div>\n",
              "<style scoped>\n",
              "    .dataframe tbody tr th:only-of-type {\n",
              "        vertical-align: middle;\n",
              "    }\n",
              "\n",
              "    .dataframe tbody tr th {\n",
              "        vertical-align: top;\n",
              "    }\n",
              "\n",
              "    .dataframe thead th {\n",
              "        text-align: right;\n",
              "    }\n",
              "</style>\n",
              "<table border=\"1\" class=\"dataframe\">\n",
              "  <thead>\n",
              "    <tr style=\"text-align: right;\">\n",
              "      <th></th>\n",
              "      <th>smiles</th>\n",
              "      <th>label</th>\n",
              "    </tr>\n",
              "  </thead>\n",
              "  <tbody>\n",
              "    <tr>\n",
              "      <th>0</th>\n",
              "      <td>O=[N+]([O-])c1ccc(Cl)cc1</td>\n",
              "      <td>3.43</td>\n",
              "    </tr>\n",
              "    <tr>\n",
              "      <th>1</th>\n",
              "      <td>Nc1ccc([N+](=O)[O-])cc1</td>\n",
              "      <td>4.12</td>\n",
              "    </tr>\n",
              "    <tr>\n",
              "      <th>2</th>\n",
              "      <td>CCOc1ccc([N+](=O)[O-])cc1</td>\n",
              "      <td>3.83</td>\n",
              "    </tr>\n",
              "    <tr>\n",
              "      <th>3</th>\n",
              "      <td>ClCc1ccccc1</td>\n",
              "      <td>3.06</td>\n",
              "    </tr>\n",
              "    <tr>\n",
              "      <th>4</th>\n",
              "      <td>N#Cc1ccccc1</td>\n",
              "      <td>2.48</td>\n",
              "    </tr>\n",
              "    <tr>\n",
              "      <th>...</th>\n",
              "      <td>...</td>\n",
              "      <td>...</td>\n",
              "    </tr>\n",
              "    <tr>\n",
              "      <th>1787</th>\n",
              "      <td>CCOC(=O)c1ccc([N+](=O)[O-])cc1</td>\n",
              "      <td>3.71</td>\n",
              "    </tr>\n",
              "    <tr>\n",
              "      <th>1788</th>\n",
              "      <td>CC(C)c1ccc(N)cc1</td>\n",
              "      <td>3.22</td>\n",
              "    </tr>\n",
              "    <tr>\n",
              "      <th>1789</th>\n",
              "      <td>O=C(O)c1ccc(O)cc1</td>\n",
              "      <td>1.98</td>\n",
              "    </tr>\n",
              "    <tr>\n",
              "      <th>1790</th>\n",
              "      <td>C=CCOC(=O)C=C</td>\n",
              "      <td>3.68</td>\n",
              "    </tr>\n",
              "    <tr>\n",
              "      <th>1791</th>\n",
              "      <td>C=CC(=O)OCC(C)O</td>\n",
              "      <td>3.65</td>\n",
              "    </tr>\n",
              "  </tbody>\n",
              "</table>\n",
              "<p>1792 rows × 2 columns</p>\n",
              "</div>\n",
              "      <button class=\"colab-df-convert\" onclick=\"convertToInteractive('df-7cea885d-e338-49ae-b990-63cfc84426ca')\"\n",
              "              title=\"Convert this dataframe to an interactive table.\"\n",
              "              style=\"display:none;\">\n",
              "        \n",
              "  <svg xmlns=\"http://www.w3.org/2000/svg\" height=\"24px\"viewBox=\"0 0 24 24\"\n",
              "       width=\"24px\">\n",
              "    <path d=\"M0 0h24v24H0V0z\" fill=\"none\"/>\n",
              "    <path d=\"M18.56 5.44l.94 2.06.94-2.06 2.06-.94-2.06-.94-.94-2.06-.94 2.06-2.06.94zm-11 1L8.5 8.5l.94-2.06 2.06-.94-2.06-.94L8.5 2.5l-.94 2.06-2.06.94zm10 10l.94 2.06.94-2.06 2.06-.94-2.06-.94-.94-2.06-.94 2.06-2.06.94z\"/><path d=\"M17.41 7.96l-1.37-1.37c-.4-.4-.92-.59-1.43-.59-.52 0-1.04.2-1.43.59L10.3 9.45l-7.72 7.72c-.78.78-.78 2.05 0 2.83L4 21.41c.39.39.9.59 1.41.59.51 0 1.02-.2 1.41-.59l7.78-7.78 2.81-2.81c.8-.78.8-2.07 0-2.86zM5.41 20L4 18.59l7.72-7.72 1.47 1.35L5.41 20z\"/>\n",
              "  </svg>\n",
              "      </button>\n",
              "      \n",
              "  <style>\n",
              "    .colab-df-container {\n",
              "      display:flex;\n",
              "      flex-wrap:wrap;\n",
              "      gap: 12px;\n",
              "    }\n",
              "\n",
              "    .colab-df-convert {\n",
              "      background-color: #E8F0FE;\n",
              "      border: none;\n",
              "      border-radius: 50%;\n",
              "      cursor: pointer;\n",
              "      display: none;\n",
              "      fill: #1967D2;\n",
              "      height: 32px;\n",
              "      padding: 0 0 0 0;\n",
              "      width: 32px;\n",
              "    }\n",
              "\n",
              "    .colab-df-convert:hover {\n",
              "      background-color: #E2EBFA;\n",
              "      box-shadow: 0px 1px 2px rgba(60, 64, 67, 0.3), 0px 1px 3px 1px rgba(60, 64, 67, 0.15);\n",
              "      fill: #174EA6;\n",
              "    }\n",
              "\n",
              "    [theme=dark] .colab-df-convert {\n",
              "      background-color: #3B4455;\n",
              "      fill: #D2E3FC;\n",
              "    }\n",
              "\n",
              "    [theme=dark] .colab-df-convert:hover {\n",
              "      background-color: #434B5C;\n",
              "      box-shadow: 0px 1px 3px 1px rgba(0, 0, 0, 0.15);\n",
              "      filter: drop-shadow(0px 1px 2px rgba(0, 0, 0, 0.3));\n",
              "      fill: #FFFFFF;\n",
              "    }\n",
              "  </style>\n",
              "\n",
              "      <script>\n",
              "        const buttonEl =\n",
              "          document.querySelector('#df-7cea885d-e338-49ae-b990-63cfc84426ca button.colab-df-convert');\n",
              "        buttonEl.style.display =\n",
              "          google.colab.kernel.accessAllowed ? 'block' : 'none';\n",
              "\n",
              "        async function convertToInteractive(key) {\n",
              "          const element = document.querySelector('#df-7cea885d-e338-49ae-b990-63cfc84426ca');\n",
              "          const dataTable =\n",
              "            await google.colab.kernel.invokeFunction('convertToInteractive',\n",
              "                                                     [key], {});\n",
              "          if (!dataTable) return;\n",
              "\n",
              "          const docLinkHtml = 'Like what you see? Visit the ' +\n",
              "            '<a target=\"_blank\" href=https://colab.research.google.com/notebooks/data_table.ipynb>data table notebook</a>'\n",
              "            + ' to learn more about interactive tables.';\n",
              "          element.innerHTML = '';\n",
              "          dataTable['output_type'] = 'display_data';\n",
              "          await google.colab.output.renderOutput(dataTable, element);\n",
              "          const docLink = document.createElement('div');\n",
              "          docLink.innerHTML = docLinkHtml;\n",
              "          element.appendChild(docLink);\n",
              "        }\n",
              "      </script>\n",
              "    </div>\n",
              "  </div>\n",
              "  "
            ],
            "text/plain": [
              "                              smiles  label\n",
              "0           O=[N+]([O-])c1ccc(Cl)cc1   3.43\n",
              "1            Nc1ccc([N+](=O)[O-])cc1   4.12\n",
              "2          CCOc1ccc([N+](=O)[O-])cc1   3.83\n",
              "3                        ClCc1ccccc1   3.06\n",
              "4                        N#Cc1ccccc1   2.48\n",
              "...                              ...    ...\n",
              "1787  CCOC(=O)c1ccc([N+](=O)[O-])cc1   3.71\n",
              "1788                CC(C)c1ccc(N)cc1   3.22\n",
              "1789               O=C(O)c1ccc(O)cc1   1.98\n",
              "1790                   C=CCOC(=O)C=C   3.68\n",
              "1791                 C=CC(=O)OCC(C)O   3.65\n",
              "\n",
              "[1792 rows x 2 columns]"
            ]
          },
          "execution_count": 5,
          "metadata": {},
          "output_type": "execute_result"
        }
      ],
      "source": [
        "df = pd.read_csv('IGC50_connected.csv')\n",
        "df"
      ]
    },
    {
      "cell_type": "code",
      "execution_count": 8,
      "metadata": {
        "colab": {
          "base_uri": "https://localhost:8080/"
        },
        "id": "GhFYWdD3ygmx",
        "outputId": "2cb4ff00-398b-4884-c82a-2d808afda23a"
      },
      "outputs": [
        {
          "data": {
            "text/plain": [
              "((1792, 1613), (1792,))"
            ]
          },
          "execution_count": 8,
          "metadata": {},
          "output_type": "execute_result"
        }
      ],
      "source": [
        "X = np.array(list(map(lambda x: get_desc(x), df['smiles'])), dtype=float)\n",
        "y = np.array(df['label'])\n",
        "\n",
        "X.shape, y.shape"
      ]
    },
    {
      "cell_type": "markdown",
      "metadata": {
        "id": "kgR6EU7Qygmy"
      },
      "source": [
        "#### Пример молекулы"
      ]
    },
    {
      "cell_type": "code",
      "execution_count": 9,
      "metadata": {
        "colab": {
          "base_uri": "https://localhost:8080/",
          "height": 184
        },
        "id": "U1c_ZjwPygmz",
        "outputId": "d33770f9-d74a-4054-90fe-4a69afb9b7d6"
      },
      "outputs": [
        {
          "name": "stdout",
          "output_type": "stream",
          "text": [
            "O=Cc1ccc(O)cc1\n"
          ]
        },
        {
          "data": {
            "image/png": "[encoded data removed]",
            "text/plain": [
              "<rdkit.Chem.rdchem.Mol at 0x7fc7e22ce1f0>"
            ]
          },
          "execution_count": 9,
          "metadata": {},
          "output_type": "execute_result"
        }
      ],
      "source": [
        "view = df.iloc[73]\n",
        "view_mol = Chem.MolFromSmiles(view['smiles'])\n",
        "print(view['smiles'])\n",
        "view_mol"
      ]
    },
    {
      "cell_type": "markdown",
      "metadata": {
        "id": "NflFMTT5ygm0"
      },
      "source": [
        "#### Разделение на обучающую и тренировочную выборки"
      ]
    },
    {
      "cell_type": "code",
      "execution_count": 10,
      "metadata": {
        "id": "BxqEO03Cygm1"
      },
      "outputs": [],
      "source": [
        "X_train, X_test, y_train, y_test = train_test_split(X, y, test_size=0.33, random_state=0)"
      ]
    },
    {
      "cell_type": "code",
      "execution_count": 11,
      "metadata": {
        "id": "nQ-yjH2Iygm2"
      },
      "outputs": [],
      "source": [
        "def print_metrics(y_test, y_pred):\n",
        "    print(\n",
        "        f'MAE: {mean_absolute_error(y_test, y_pred)}\\n'\n",
        "        f'MSE: {mean_squared_error(y_test, y_pred)}\\n'\n",
        "        f'MAPE: {mean_absolute_percentage_error(y_test, y_pred)}\\n'\n",
        "        f'R^2: {r2_score(y_test, y_pred)}\\n'\n",
        "        f'RMSE: {np.sqrt(mean_squared_error(y_test, y_pred))}'\n",
        "    )"
      ]
    },
    {
      "cell_type": "markdown",
      "metadata": {
        "id": "qn61vq5Bygm-"
      },
      "source": [
        "## sklearn"
      ]
    },
    {
      "cell_type": "markdown",
      "metadata": {
        "id": "UP3opx8Cygm_"
      },
      "source": [
        "### Проверили кросс-валидацию"
      ]
    },
    {
      "cell_type": "code",
      "execution_count": 17,
      "metadata": {
        "colab": {
          "base_uri": "https://localhost:8080/"
        },
        "id": "B-lOcAzyygm_",
        "outputId": "6dc84011-5a44-4270-b860-58be9720e3c8"
      },
      "outputs": [
        {
          "name": "stdout",
          "output_type": "stream",
          "text": [
            "RMSE: 0.5263110009999005\n",
            "\n",
            "RMSE: 0.49210974691710524\n",
            "\n",
            "RMSE: 0.5190873640297528\n",
            "\n",
            "RMSE: 0.5225641131920082\n",
            "\n",
            "RMSE: 0.49416569955169715\n",
            "\n",
            "0.5108475849380928\n"
          ]
        }
      ],
      "source": [
        "kfold = KFold(n_splits=5, shuffle=True, random_state=0)\n",
        "rmse = []\n",
        "\n",
        "for train_index, test_index in kfold.split(X, y):\n",
        "    xgbr = XGBRegressor().fit(X[train_index], y[train_index])\n",
        "    y_pred_xgbr = xgbr.predict(X[test_index])\n",
        "    rmse.append(np.sqrt(mean_squared_error(y[test_index], y_pred_xgbr)))\n",
        "    print('RMSE:', rmse[-1], end='\\n\\n')\n",
        "\n",
        "print(np.mean(rmse))"
      ]
    },
    {
      "cell_type": "code",
      "execution_count": 18,
      "metadata": {
        "colab": {
          "base_uri": "https://localhost:8080/"
        },
        "id": "lXae7ucDygnA",
        "outputId": "26f1bba1-593c-4217-8981-754f85ca555d"
      },
      "outputs": [
        {
          "name": "stdout",
          "output_type": "stream",
          "text": [
            "[0]\tvalidation_0-rmse:2.10916\tvalidation_1-rmse:2.16206\n",
            "[1]\tvalidation_0-rmse:1.52766\tvalidation_1-rmse:1.59196\n",
            "[2]\tvalidation_0-rmse:1.11927\tvalidation_1-rmse:1.20506\n",
            "[3]\tvalidation_0-rmse:0.82991\tvalidation_1-rmse:0.95506\n",
            "[4]\tvalidation_0-rmse:0.62934\tvalidation_1-rmse:0.79884\n",
            "[5]\tvalidation_0-rmse:0.48915\tvalidation_1-rmse:0.69710\n",
            "[6]\tvalidation_0-rmse:0.39171\tvalidation_1-rmse:0.63868\n",
            "[7]\tvalidation_0-rmse:0.32059\tvalidation_1-rmse:0.60076\n",
            "[8]\tvalidation_0-rmse:0.27152\tvalidation_1-rmse:0.57829\n",
            "[9]\tvalidation_0-rmse:0.23905\tvalidation_1-rmse:0.56565\n",
            "[10]\tvalidation_0-rmse:0.21063\tvalidation_1-rmse:0.55714\n",
            "[11]\tvalidation_0-rmse:0.19068\tvalidation_1-rmse:0.55384\n",
            "[12]\tvalidation_0-rmse:0.17803\tvalidation_1-rmse:0.54906\n",
            "[13]\tvalidation_0-rmse:0.16812\tvalidation_1-rmse:0.54593\n",
            "[14]\tvalidation_0-rmse:0.15733\tvalidation_1-rmse:0.54432\n",
            "[15]\tvalidation_0-rmse:0.14860\tvalidation_1-rmse:0.54390\n",
            "[16]\tvalidation_0-rmse:0.14452\tvalidation_1-rmse:0.54267\n",
            "[17]\tvalidation_0-rmse:0.13629\tvalidation_1-rmse:0.54327\n",
            "[18]\tvalidation_0-rmse:0.12950\tvalidation_1-rmse:0.54227\n",
            "[19]\tvalidation_0-rmse:0.12490\tvalidation_1-rmse:0.54232\n",
            "[20]\tvalidation_0-rmse:0.11912\tvalidation_1-rmse:0.53981\n",
            "[21]\tvalidation_0-rmse:0.10911\tvalidation_1-rmse:0.53924\n",
            "[22]\tvalidation_0-rmse:0.10300\tvalidation_1-rmse:0.53797\n",
            "[23]\tvalidation_0-rmse:0.09871\tvalidation_1-rmse:0.53755\n",
            "[24]\tvalidation_0-rmse:0.09487\tvalidation_1-rmse:0.53722\n",
            "[25]\tvalidation_0-rmse:0.09020\tvalidation_1-rmse:0.53705\n",
            "[26]\tvalidation_0-rmse:0.08607\tvalidation_1-rmse:0.53644\n",
            "[27]\tvalidation_0-rmse:0.08311\tvalidation_1-rmse:0.53650\n",
            "[28]\tvalidation_0-rmse:0.07594\tvalidation_1-rmse:0.53619\n",
            "[29]\tvalidation_0-rmse:0.06938\tvalidation_1-rmse:0.53611\n",
            "[30]\tvalidation_0-rmse:0.06381\tvalidation_1-rmse:0.53538\n",
            "[31]\tvalidation_0-rmse:0.06243\tvalidation_1-rmse:0.53565\n",
            "[32]\tvalidation_0-rmse:0.06008\tvalidation_1-rmse:0.53587\n",
            "[33]\tvalidation_0-rmse:0.05901\tvalidation_1-rmse:0.53591\n",
            "[34]\tvalidation_0-rmse:0.05653\tvalidation_1-rmse:0.53560\n",
            "[35]\tvalidation_0-rmse:0.05444\tvalidation_1-rmse:0.53566\n",
            "[36]\tvalidation_0-rmse:0.05298\tvalidation_1-rmse:0.53571\n",
            "[37]\tvalidation_0-rmse:0.05144\tvalidation_1-rmse:0.53531\n",
            "[38]\tvalidation_0-rmse:0.04881\tvalidation_1-rmse:0.53571\n",
            "[39]\tvalidation_0-rmse:0.04778\tvalidation_1-rmse:0.53547\n",
            "[40]\tvalidation_0-rmse:0.04678\tvalidation_1-rmse:0.53579\n",
            "[41]\tvalidation_0-rmse:0.04501\tvalidation_1-rmse:0.53588\n",
            "[42]\tvalidation_0-rmse:0.04279\tvalidation_1-rmse:0.53582\n",
            "[43]\tvalidation_0-rmse:0.04204\tvalidation_1-rmse:0.53583\n",
            "[44]\tvalidation_0-rmse:0.04051\tvalidation_1-rmse:0.53570\n",
            "[45]\tvalidation_0-rmse:0.03735\tvalidation_1-rmse:0.53529\n",
            "[46]\tvalidation_0-rmse:0.03644\tvalidation_1-rmse:0.53540\n",
            "[47]\tvalidation_0-rmse:0.03407\tvalidation_1-rmse:0.53523\n",
            "[48]\tvalidation_0-rmse:0.03320\tvalidation_1-rmse:0.53511\n",
            "[49]\tvalidation_0-rmse:0.03240\tvalidation_1-rmse:0.53510\n",
            "[50]\tvalidation_0-rmse:0.03057\tvalidation_1-rmse:0.53507\n",
            "[51]\tvalidation_0-rmse:0.02941\tvalidation_1-rmse:0.53492\n",
            "[52]\tvalidation_0-rmse:0.02831\tvalidation_1-rmse:0.53488\n",
            "[53]\tvalidation_0-rmse:0.02769\tvalidation_1-rmse:0.53516\n",
            "[54]\tvalidation_0-rmse:0.02681\tvalidation_1-rmse:0.53506\n",
            "[55]\tvalidation_0-rmse:0.02575\tvalidation_1-rmse:0.53503\n",
            "[56]\tvalidation_0-rmse:0.02457\tvalidation_1-rmse:0.53493\n",
            "[57]\tvalidation_0-rmse:0.02404\tvalidation_1-rmse:0.53502\n",
            "[58]\tvalidation_0-rmse:0.02274\tvalidation_1-rmse:0.53502\n",
            "[59]\tvalidation_0-rmse:0.02189\tvalidation_1-rmse:0.53504\n",
            "[60]\tvalidation_0-rmse:0.02080\tvalidation_1-rmse:0.53498\n",
            "[61]\tvalidation_0-rmse:0.02014\tvalidation_1-rmse:0.53491\n",
            "[62]\tvalidation_0-rmse:0.01974\tvalidation_1-rmse:0.53484\n",
            "[63]\tvalidation_0-rmse:0.01908\tvalidation_1-rmse:0.53484\n",
            "[64]\tvalidation_0-rmse:0.01856\tvalidation_1-rmse:0.53485\n",
            "[65]\tvalidation_0-rmse:0.01813\tvalidation_1-rmse:0.53489\n",
            "[66]\tvalidation_0-rmse:0.01764\tvalidation_1-rmse:0.53482\n",
            "[67]\tvalidation_0-rmse:0.01724\tvalidation_1-rmse:0.53486\n",
            "[68]\tvalidation_0-rmse:0.01683\tvalidation_1-rmse:0.53486\n",
            "[69]\tvalidation_0-rmse:0.01646\tvalidation_1-rmse:0.53480\n",
            "[70]\tvalidation_0-rmse:0.01569\tvalidation_1-rmse:0.53475\n",
            "[71]\tvalidation_0-rmse:0.01544\tvalidation_1-rmse:0.53477\n",
            "[72]\tvalidation_0-rmse:0.01522\tvalidation_1-rmse:0.53474\n",
            "[73]\tvalidation_0-rmse:0.01452\tvalidation_1-rmse:0.53478\n",
            "[74]\tvalidation_0-rmse:0.01396\tvalidation_1-rmse:0.53476\n",
            "[75]\tvalidation_0-rmse:0.01374\tvalidation_1-rmse:0.53471\n",
            "[76]\tvalidation_0-rmse:0.01330\tvalidation_1-rmse:0.53465\n",
            "[77]\tvalidation_0-rmse:0.01267\tvalidation_1-rmse:0.53454\n",
            "[78]\tvalidation_0-rmse:0.01238\tvalidation_1-rmse:0.53456\n",
            "[79]\tvalidation_0-rmse:0.01177\tvalidation_1-rmse:0.53463\n",
            "[80]\tvalidation_0-rmse:0.01100\tvalidation_1-rmse:0.53473\n",
            "[81]\tvalidation_0-rmse:0.01063\tvalidation_1-rmse:0.53471\n",
            "[82]\tvalidation_0-rmse:0.01025\tvalidation_1-rmse:0.53463\n",
            "[83]\tvalidation_0-rmse:0.00956\tvalidation_1-rmse:0.53459\n",
            "[84]\tvalidation_0-rmse:0.00914\tvalidation_1-rmse:0.53460\n",
            "[85]\tvalidation_0-rmse:0.00887\tvalidation_1-rmse:0.53463\n",
            "[86]\tvalidation_0-rmse:0.00849\tvalidation_1-rmse:0.53466\n",
            "MAE: 0.3856131301047029\n",
            "MSE: 0.2857278760664355\n",
            "MAPE: 0.13495637818575776\n",
            "R^2: 0.749414968171233\n",
            "RMSE: 0.5345351962840572\n"
          ]
        }
      ],
      "source": [
        "xgbr_kf = XGBRegressor(early_stopping_rounds=10, random_state=0, seed=0).fit(X_train, y_train, eval_set=[(X_train, y_train), (X_test, y_test)])\n",
        "y_pred_xgbr_kf = xgbr_kf.predict(X_test)\n",
        "print_metrics(y_test, y_pred_xgbr_kf)"
      ]
    },
    {
      "cell_type": "code",
      "execution_count": 19,
      "metadata": {
        "colab": {
          "base_uri": "https://localhost:8080/"
        },
        "id": "dZEo1LkWygnB",
        "outputId": "35d6ef23-d4b6-431e-a761-70c98b145e8b"
      },
      "outputs": [
        {
          "data": {
            "text/plain": [
              "0.5346539529968766"
            ]
          },
          "execution_count": 19,
          "metadata": {},
          "output_type": "execute_result"
        }
      ],
      "source": [
        "results = xgbr_kf.evals_result()\n",
        "results['validation_1']['rmse'][-1]"
      ]
    },
    {
      "cell_type": "code",
      "execution_count": 20,
      "metadata": {
        "colab": {
          "base_uri": "https://localhost:8080/",
          "height": 489
        },
        "id": "GheZkNcxygnC",
        "outputId": "f1caf801-4008-4deb-b5ac-0bc9bbeb57fc"
      },
      "outputs": [
        {
          "data": {
            "text/plain": [
              "<matplotlib.legend.Legend at 0x7fc7e8439450>"
            ]
          },
          "execution_count": 20,
          "metadata": {},
          "output_type": "execute_result"
        },
        {
          "data": {
            "image/png": "[encoded data removed]",
            "text/plain": [
              "<Figure size 640x480 with 1 Axes>"
            ]
          },
          "metadata": {},
          "output_type": "display_data"
        }
      ],
      "source": [
        "epochs = len(results['validation_0']['rmse'])\n",
        "x_axis = range(0, epochs)\n",
        "\n",
        "fig, ax = plt.subplots()\n",
        "\n",
        "ax.plot(x_axis, results['validation_0']['rmse'], label='Train')\n",
        "ax.plot(x_axis, results['validation_1']['rmse'], label='Test')\n",
        "\n",
        "plt.title('XGBoost RMSE')\n",
        "plt.xlabel(\"Boosting Iterations\")\n",
        "plt.ylabel(\"RMSE Deviance\")\n",
        "plt.legend(loc=\"upper right\")"
      ]
    },
    {
      "cell_type": "markdown",
      "metadata": {
        "id": "haoCsUMhygnD"
      },
      "source": [
        "### XGB"
      ]
    },
    {
      "cell_type": "code",
      "execution_count": 21,
      "metadata": {
        "colab": {
          "base_uri": "https://localhost:8080/"
        },
        "id": "1CoKpUZIygnE",
        "outputId": "a700575d-3c5f-4e6b-a4d9-105c2d61a1d8"
      },
      "outputs": [
        {
          "name": "stdout",
          "output_type": "stream",
          "text": [
            "MAE: 0.38546849007058787\n",
            "MSE: 0.2857373670669544\n",
            "MAPE: 0.1349418047068904\n",
            "R^2: 0.7494066445078233\n",
            "RMSE: 0.5345440740172455\n"
          ]
        }
      ],
      "source": [
        "xgbr = XGBRegressor().fit(X_train, y_train)\n",
        "y_pred_xgbr = xgbr.predict(X_test)\n",
        "print_metrics(y_test, y_pred_xgbr)"
      ]
    },
    {
      "cell_type": "markdown",
      "metadata": {
        "id": "xiczyNZZygnF"
      },
      "source": [
        "### CatBoost"
      ]
    },
    {
      "cell_type": "code",
      "execution_count": 22,
      "metadata": {
        "colab": {
          "base_uri": "https://localhost:8080/"
        },
        "id": "l0imkfgxygnF",
        "outputId": "3c325290-4a8f-45e2-c573-91a22aa47d2e"
      },
      "outputs": [
        {
          "name": "stdout",
          "output_type": "stream",
          "text": [
            "MAE: 0.3329175106762163\n",
            "MSE: 0.21045082012284502\n",
            "MAPE: 0.11744394989003643\n",
            "R^2: 0.8154333900322296\n",
            "RMSE: 0.4587491908688723\n"
          ]
        }
      ],
      "source": [
        "cbr = CatBoostRegressor().fit(X_train, y_train, verbose=False)\n",
        "y_pred_cbr = cbr.predict(X_test)\n",
        "print_metrics(y_test, y_pred_cbr)"
      ]
    },
    {
      "attachments": {},
      "cell_type": "markdown",
      "metadata": {
        "id": "3sbVTaDHygnG"
      },
      "source": [
        "Можно бы было подобрать много гиперпараметров, но у нас нет столько мощностей"
      ]
    },
    {
      "cell_type": "code",
      "execution_count": null,
      "metadata": {
        "id": "OwGJm985ygnG",
        "outputId": "02207eb6-0188-44dd-e24c-7b11fba6b6ea"
      },
      "outputs": [],
      "source": [
        "params = {\n",
        "    'iterations': [500, 1000, 1500],\n",
        "    'learning_rate': [0.01],\n",
        "    'depth': [3, 5],\n",
        "    'l2_leaf_reg': [3, 5],\n",
        "    'random_seed': [42],\n",
        "    'bagging_temperature': [0.6, 0.8, 1],\n",
        "    'border_count': [32, 64, 128]\n",
        "}\n",
        "\n",
        "cb = CatBoostRegressor(task_type=\"GPU\", devices=\"0:1\") \n",
        "\n",
        "grid = GridSearchCV(estimator=cb, param_grid=params, n_jobs=4, verbose=3)\n",
        "\n",
        "grid.fit(X_train, y_train)"
      ]
    },
    {
      "attachments": {},
      "cell_type": "markdown",
      "metadata": {},
      "source": [
        "## Сохранение"
      ]
    },
    {
      "cell_type": "code",
      "execution_count": null,
      "metadata": {},
      "outputs": [],
      "source": [
        "def save(X: np.ndarray, estimator, filename: str) -> None:\n",
        "    pd.DataFrame({'smiles': X, 'label': estimator.predict(X)}).to_csv(f'answers/{filename}.csv', index=False)"
      ]
    },
    {
      "cell_type": "code",
      "execution_count": null,
      "metadata": {},
      "outputs": [],
      "source": [
        "save(X_test, cbr, 'igc50_40h_tetra_pred')"
      ]
    }
  ],
  "metadata": {
    "colab": {
      "provenance": []
    },
    "kernelspec": {
      "display_name": "venv",
      "language": "python",
      "name": "python3"
    },
    "language_info": {
      "codemirror_mode": {
        "name": "ipython",
        "version": 3
      },
      "file_extension": ".py",
      "mimetype": "text/x-python",
      "name": "python",
      "nbconvert_exporter": "python",
      "pygments_lexer": "ipython3",
      "version": "3.9.13"
    },
    "orig_nbformat": 4
  },
  "nbformat": 4,
  "nbformat_minor": 0
}
